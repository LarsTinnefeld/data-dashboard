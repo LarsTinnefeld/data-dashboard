{
 "cells": [
  {
   "cell_type": "markdown",
   "metadata": {},
   "source": [
    "# Experimental data analysis for web app project\n",
    "2020-12-22"
   ]
  },
  {
   "cell_type": "markdown",
   "metadata": {},
   "source": [
    "### Data files:\n",
    "- Plant_1_Generation_Data.csv\n",
    "- Plant_2_Generation_Data.csv\n",
    "- Plant_1_Weather_Sensor_Data.csv\n",
    "- Plant_2_Weather_Sensor_Data.csv"
   ]
  },
  {
   "cell_type": "markdown",
   "metadata": {},
   "source": [
    "---\n",
    "### Importing libraries"
   ]
  },
  {
   "cell_type": "code",
   "execution_count": 1,
   "metadata": {},
   "outputs": [],
   "source": [
    "import pandas as pd\n",
    "import plotly.graph_objs as go\n",
    "import matplotlib.pyplot as plt\n",
    "import seaborn as sns\n",
    "import datetime as dt\n",
    "\n",
    "%matplotlib inline"
   ]
  },
  {
   "cell_type": "markdown",
   "metadata": {},
   "source": [
    "---\n",
    "### Custom functions"
   ]
  },
  {
   "cell_type": "markdown",
   "metadata": {},
   "source": [
    "---\n",
    "### Importing data"
   ]
  },
  {
   "cell_type": "code",
   "execution_count": 2,
   "metadata": {},
   "outputs": [
    {
     "name": "stdout",
     "output_type": "stream",
     "text": [
      "<class 'pandas.core.frame.DataFrame'>\n",
      "RangeIndex: 68778 entries, 0 to 68777\n",
      "Data columns (total 7 columns):\n",
      " #   Column       Non-Null Count  Dtype  \n",
      "---  ------       --------------  -----  \n",
      " 0   DATE_TIME    68778 non-null  object \n",
      " 1   PLANT_ID     68778 non-null  int64  \n",
      " 2   SOURCE_KEY   68778 non-null  object \n",
      " 3   DC_POWER     68778 non-null  float64\n",
      " 4   AC_POWER     68778 non-null  float64\n",
      " 5   DAILY_YIELD  68778 non-null  float64\n",
      " 6   TOTAL_YIELD  68778 non-null  float64\n",
      "dtypes: float64(4), int64(1), object(2)\n",
      "memory usage: 3.7+ MB\n"
     ]
    }
   ],
   "source": [
    "df_gen_1 = pd.read_csv('Plant_1_Generation_Data.csv')\n",
    "df_gen_1.info()"
   ]
  },
  {
   "cell_type": "code",
   "execution_count": 3,
   "metadata": {},
   "outputs": [],
   "source": [
    "df_gen_1['DATE_TIME'] = pd.to_datetime(df_gen_1['DATE_TIME'])"
   ]
  },
  {
   "cell_type": "code",
   "execution_count": 4,
   "metadata": {},
   "outputs": [
    {
     "data": {
      "text/html": [
       "<div>\n",
       "<style scoped>\n",
       "    .dataframe tbody tr th:only-of-type {\n",
       "        vertical-align: middle;\n",
       "    }\n",
       "\n",
       "    .dataframe tbody tr th {\n",
       "        vertical-align: top;\n",
       "    }\n",
       "\n",
       "    .dataframe thead th {\n",
       "        text-align: right;\n",
       "    }\n",
       "</style>\n",
       "<table border=\"1\" class=\"dataframe\">\n",
       "  <thead>\n",
       "    <tr style=\"text-align: right;\">\n",
       "      <th></th>\n",
       "      <th>PLANT_ID</th>\n",
       "      <th>DC_POWER</th>\n",
       "      <th>AC_POWER</th>\n",
       "      <th>DAILY_YIELD</th>\n",
       "      <th>TOTAL_YIELD</th>\n",
       "    </tr>\n",
       "  </thead>\n",
       "  <tbody>\n",
       "    <tr>\n",
       "      <th>count</th>\n",
       "      <td>68778.0</td>\n",
       "      <td>68778.000000</td>\n",
       "      <td>68778.000000</td>\n",
       "      <td>68778.000000</td>\n",
       "      <td>6.877800e+04</td>\n",
       "    </tr>\n",
       "    <tr>\n",
       "      <th>mean</th>\n",
       "      <td>4135001.0</td>\n",
       "      <td>3147.426211</td>\n",
       "      <td>307.802752</td>\n",
       "      <td>3295.968737</td>\n",
       "      <td>6.978712e+06</td>\n",
       "    </tr>\n",
       "    <tr>\n",
       "      <th>std</th>\n",
       "      <td>0.0</td>\n",
       "      <td>4036.457169</td>\n",
       "      <td>394.396439</td>\n",
       "      <td>3145.178309</td>\n",
       "      <td>4.162720e+05</td>\n",
       "    </tr>\n",
       "    <tr>\n",
       "      <th>min</th>\n",
       "      <td>4135001.0</td>\n",
       "      <td>0.000000</td>\n",
       "      <td>0.000000</td>\n",
       "      <td>0.000000</td>\n",
       "      <td>6.183645e+06</td>\n",
       "    </tr>\n",
       "    <tr>\n",
       "      <th>25%</th>\n",
       "      <td>4135001.0</td>\n",
       "      <td>0.000000</td>\n",
       "      <td>0.000000</td>\n",
       "      <td>0.000000</td>\n",
       "      <td>6.512003e+06</td>\n",
       "    </tr>\n",
       "    <tr>\n",
       "      <th>50%</th>\n",
       "      <td>4135001.0</td>\n",
       "      <td>429.000000</td>\n",
       "      <td>41.493750</td>\n",
       "      <td>2658.714286</td>\n",
       "      <td>7.146685e+06</td>\n",
       "    </tr>\n",
       "    <tr>\n",
       "      <th>75%</th>\n",
       "      <td>4135001.0</td>\n",
       "      <td>6366.964286</td>\n",
       "      <td>623.618750</td>\n",
       "      <td>6274.000000</td>\n",
       "      <td>7.268706e+06</td>\n",
       "    </tr>\n",
       "    <tr>\n",
       "      <th>max</th>\n",
       "      <td>4135001.0</td>\n",
       "      <td>14471.125000</td>\n",
       "      <td>1410.950000</td>\n",
       "      <td>9163.000000</td>\n",
       "      <td>7.846821e+06</td>\n",
       "    </tr>\n",
       "  </tbody>\n",
       "</table>\n",
       "</div>"
      ],
      "text/plain": [
       "        PLANT_ID      DC_POWER      AC_POWER   DAILY_YIELD   TOTAL_YIELD\n",
       "count    68778.0  68778.000000  68778.000000  68778.000000  6.877800e+04\n",
       "mean   4135001.0   3147.426211    307.802752   3295.968737  6.978712e+06\n",
       "std          0.0   4036.457169    394.396439   3145.178309  4.162720e+05\n",
       "min    4135001.0      0.000000      0.000000      0.000000  6.183645e+06\n",
       "25%    4135001.0      0.000000      0.000000      0.000000  6.512003e+06\n",
       "50%    4135001.0    429.000000     41.493750   2658.714286  7.146685e+06\n",
       "75%    4135001.0   6366.964286    623.618750   6274.000000  7.268706e+06\n",
       "max    4135001.0  14471.125000   1410.950000   9163.000000  7.846821e+06"
      ]
     },
     "execution_count": 4,
     "metadata": {},
     "output_type": "execute_result"
    }
   ],
   "source": [
    "df_gen_1.describe()"
   ]
  },
  {
   "cell_type": "code",
   "execution_count": 5,
   "metadata": {},
   "outputs": [
    {
     "data": {
      "text/html": [
       "<div>\n",
       "<style scoped>\n",
       "    .dataframe tbody tr th:only-of-type {\n",
       "        vertical-align: middle;\n",
       "    }\n",
       "\n",
       "    .dataframe tbody tr th {\n",
       "        vertical-align: top;\n",
       "    }\n",
       "\n",
       "    .dataframe thead th {\n",
       "        text-align: right;\n",
       "    }\n",
       "</style>\n",
       "<table border=\"1\" class=\"dataframe\">\n",
       "  <thead>\n",
       "    <tr style=\"text-align: right;\">\n",
       "      <th></th>\n",
       "      <th>DATE_TIME</th>\n",
       "      <th>PLANT_ID</th>\n",
       "      <th>SOURCE_KEY</th>\n",
       "      <th>DC_POWER</th>\n",
       "      <th>AC_POWER</th>\n",
       "      <th>DAILY_YIELD</th>\n",
       "      <th>TOTAL_YIELD</th>\n",
       "    </tr>\n",
       "  </thead>\n",
       "  <tbody>\n",
       "    <tr>\n",
       "      <th>0</th>\n",
       "      <td>2020-05-15</td>\n",
       "      <td>4135001</td>\n",
       "      <td>1BY6WEcLGh8j5v7</td>\n",
       "      <td>0.0</td>\n",
       "      <td>0.0</td>\n",
       "      <td>0.0</td>\n",
       "      <td>6259559.0</td>\n",
       "    </tr>\n",
       "    <tr>\n",
       "      <th>1</th>\n",
       "      <td>2020-05-15</td>\n",
       "      <td>4135001</td>\n",
       "      <td>1IF53ai7Xc0U56Y</td>\n",
       "      <td>0.0</td>\n",
       "      <td>0.0</td>\n",
       "      <td>0.0</td>\n",
       "      <td>6183645.0</td>\n",
       "    </tr>\n",
       "    <tr>\n",
       "      <th>2</th>\n",
       "      <td>2020-05-15</td>\n",
       "      <td>4135001</td>\n",
       "      <td>3PZuoBAID5Wc2HD</td>\n",
       "      <td>0.0</td>\n",
       "      <td>0.0</td>\n",
       "      <td>0.0</td>\n",
       "      <td>6987759.0</td>\n",
       "    </tr>\n",
       "    <tr>\n",
       "      <th>3</th>\n",
       "      <td>2020-05-15</td>\n",
       "      <td>4135001</td>\n",
       "      <td>7JYdWkrLSPkdwr4</td>\n",
       "      <td>0.0</td>\n",
       "      <td>0.0</td>\n",
       "      <td>0.0</td>\n",
       "      <td>7602960.0</td>\n",
       "    </tr>\n",
       "    <tr>\n",
       "      <th>4</th>\n",
       "      <td>2020-05-15</td>\n",
       "      <td>4135001</td>\n",
       "      <td>McdE0feGgRqW7Ca</td>\n",
       "      <td>0.0</td>\n",
       "      <td>0.0</td>\n",
       "      <td>0.0</td>\n",
       "      <td>7158964.0</td>\n",
       "    </tr>\n",
       "  </tbody>\n",
       "</table>\n",
       "</div>"
      ],
      "text/plain": [
       "   DATE_TIME  PLANT_ID       SOURCE_KEY  DC_POWER  AC_POWER  DAILY_YIELD  \\\n",
       "0 2020-05-15   4135001  1BY6WEcLGh8j5v7       0.0       0.0          0.0   \n",
       "1 2020-05-15   4135001  1IF53ai7Xc0U56Y       0.0       0.0          0.0   \n",
       "2 2020-05-15   4135001  3PZuoBAID5Wc2HD       0.0       0.0          0.0   \n",
       "3 2020-05-15   4135001  7JYdWkrLSPkdwr4       0.0       0.0          0.0   \n",
       "4 2020-05-15   4135001  McdE0feGgRqW7Ca       0.0       0.0          0.0   \n",
       "\n",
       "   TOTAL_YIELD  \n",
       "0    6259559.0  \n",
       "1    6183645.0  \n",
       "2    6987759.0  \n",
       "3    7602960.0  \n",
       "4    7158964.0  "
      ]
     },
     "execution_count": 5,
     "metadata": {},
     "output_type": "execute_result"
    }
   ],
   "source": [
    "df_gen_1.head()"
   ]
  },
  {
   "cell_type": "code",
   "execution_count": 6,
   "metadata": {},
   "outputs": [
    {
     "name": "stdout",
     "output_type": "stream",
     "text": [
      "<class 'pandas.core.frame.DataFrame'>\n",
      "RangeIndex: 68778 entries, 0 to 68777\n",
      "Data columns (total 7 columns):\n",
      " #   Column       Non-Null Count  Dtype         \n",
      "---  ------       --------------  -----         \n",
      " 0   DATE_TIME    68778 non-null  datetime64[ns]\n",
      " 1   PLANT_ID     68778 non-null  int64         \n",
      " 2   SOURCE_KEY   68778 non-null  object        \n",
      " 3   DC_POWER     68778 non-null  float64       \n",
      " 4   AC_POWER     68778 non-null  float64       \n",
      " 5   DAILY_YIELD  68778 non-null  float64       \n",
      " 6   TOTAL_YIELD  68778 non-null  float64       \n",
      "dtypes: datetime64[ns](1), float64(4), int64(1), object(1)\n",
      "memory usage: 3.7+ MB\n"
     ]
    }
   ],
   "source": [
    "df_gen_1.info()"
   ]
  },
  {
   "cell_type": "code",
   "execution_count": 7,
   "metadata": {},
   "outputs": [],
   "source": [
    "df_gen_2 = pd.read_csv('Plant_2_Generation_Data.csv')"
   ]
  },
  {
   "cell_type": "code",
   "execution_count": 8,
   "metadata": {},
   "outputs": [],
   "source": [
    "df_gen_2['DATE_TIME'] = pd.to_datetime(df_gen_2['DATE_TIME'])"
   ]
  },
  {
   "cell_type": "code",
   "execution_count": 9,
   "metadata": {},
   "outputs": [
    {
     "name": "stdout",
     "output_type": "stream",
     "text": [
      "<class 'pandas.core.frame.DataFrame'>\n",
      "RangeIndex: 67698 entries, 0 to 67697\n",
      "Data columns (total 7 columns):\n",
      " #   Column       Non-Null Count  Dtype         \n",
      "---  ------       --------------  -----         \n",
      " 0   DATE_TIME    67698 non-null  datetime64[ns]\n",
      " 1   PLANT_ID     67698 non-null  int64         \n",
      " 2   SOURCE_KEY   67698 non-null  object        \n",
      " 3   DC_POWER     67698 non-null  float64       \n",
      " 4   AC_POWER     67698 non-null  float64       \n",
      " 5   DAILY_YIELD  67698 non-null  float64       \n",
      " 6   TOTAL_YIELD  67698 non-null  float64       \n",
      "dtypes: datetime64[ns](1), float64(4), int64(1), object(1)\n",
      "memory usage: 3.6+ MB\n"
     ]
    }
   ],
   "source": [
    "df_gen_2.info()"
   ]
  },
  {
   "cell_type": "code",
   "execution_count": 10,
   "metadata": {},
   "outputs": [
    {
     "data": {
      "text/html": [
       "<div>\n",
       "<style scoped>\n",
       "    .dataframe tbody tr th:only-of-type {\n",
       "        vertical-align: middle;\n",
       "    }\n",
       "\n",
       "    .dataframe tbody tr th {\n",
       "        vertical-align: top;\n",
       "    }\n",
       "\n",
       "    .dataframe thead th {\n",
       "        text-align: right;\n",
       "    }\n",
       "</style>\n",
       "<table border=\"1\" class=\"dataframe\">\n",
       "  <thead>\n",
       "    <tr style=\"text-align: right;\">\n",
       "      <th></th>\n",
       "      <th>DATE_TIME</th>\n",
       "      <th>PLANT_ID</th>\n",
       "      <th>SOURCE_KEY</th>\n",
       "      <th>DC_POWER</th>\n",
       "      <th>AC_POWER</th>\n",
       "      <th>DAILY_YIELD</th>\n",
       "      <th>TOTAL_YIELD</th>\n",
       "    </tr>\n",
       "  </thead>\n",
       "  <tbody>\n",
       "    <tr>\n",
       "      <th>0</th>\n",
       "      <td>2020-05-15 00:00:00</td>\n",
       "      <td>4136001</td>\n",
       "      <td>4UPUqMRk7TRMgml</td>\n",
       "      <td>0.0</td>\n",
       "      <td>0.0</td>\n",
       "      <td>9425.000000</td>\n",
       "      <td>2.429011e+06</td>\n",
       "    </tr>\n",
       "    <tr>\n",
       "      <th>1</th>\n",
       "      <td>2020-05-15 00:00:00</td>\n",
       "      <td>4136001</td>\n",
       "      <td>81aHJ1q11NBPMrL</td>\n",
       "      <td>0.0</td>\n",
       "      <td>0.0</td>\n",
       "      <td>0.000000</td>\n",
       "      <td>1.215279e+09</td>\n",
       "    </tr>\n",
       "    <tr>\n",
       "      <th>2</th>\n",
       "      <td>2020-05-15 00:00:00</td>\n",
       "      <td>4136001</td>\n",
       "      <td>9kRcWv60rDACzjR</td>\n",
       "      <td>0.0</td>\n",
       "      <td>0.0</td>\n",
       "      <td>3075.333333</td>\n",
       "      <td>2.247720e+09</td>\n",
       "    </tr>\n",
       "    <tr>\n",
       "      <th>3</th>\n",
       "      <td>2020-05-15 00:00:00</td>\n",
       "      <td>4136001</td>\n",
       "      <td>Et9kgGMDl729KT4</td>\n",
       "      <td>0.0</td>\n",
       "      <td>0.0</td>\n",
       "      <td>269.933333</td>\n",
       "      <td>1.704250e+06</td>\n",
       "    </tr>\n",
       "    <tr>\n",
       "      <th>4</th>\n",
       "      <td>2020-05-15 00:00:00</td>\n",
       "      <td>4136001</td>\n",
       "      <td>IQ2d7wF4YD8zU1Q</td>\n",
       "      <td>0.0</td>\n",
       "      <td>0.0</td>\n",
       "      <td>3177.000000</td>\n",
       "      <td>1.994153e+07</td>\n",
       "    </tr>\n",
       "    <tr>\n",
       "      <th>...</th>\n",
       "      <td>...</td>\n",
       "      <td>...</td>\n",
       "      <td>...</td>\n",
       "      <td>...</td>\n",
       "      <td>...</td>\n",
       "      <td>...</td>\n",
       "      <td>...</td>\n",
       "    </tr>\n",
       "    <tr>\n",
       "      <th>67693</th>\n",
       "      <td>2020-06-17 23:45:00</td>\n",
       "      <td>4136001</td>\n",
       "      <td>q49J1IKaHRwDQnt</td>\n",
       "      <td>0.0</td>\n",
       "      <td>0.0</td>\n",
       "      <td>4157.000000</td>\n",
       "      <td>5.207580e+05</td>\n",
       "    </tr>\n",
       "    <tr>\n",
       "      <th>67694</th>\n",
       "      <td>2020-06-17 23:45:00</td>\n",
       "      <td>4136001</td>\n",
       "      <td>rrq4fwE8jgrTyWY</td>\n",
       "      <td>0.0</td>\n",
       "      <td>0.0</td>\n",
       "      <td>3931.000000</td>\n",
       "      <td>1.211314e+08</td>\n",
       "    </tr>\n",
       "    <tr>\n",
       "      <th>67695</th>\n",
       "      <td>2020-06-17 23:45:00</td>\n",
       "      <td>4136001</td>\n",
       "      <td>vOuJvMaM2sgwLmb</td>\n",
       "      <td>0.0</td>\n",
       "      <td>0.0</td>\n",
       "      <td>4322.000000</td>\n",
       "      <td>2.427691e+06</td>\n",
       "    </tr>\n",
       "    <tr>\n",
       "      <th>67696</th>\n",
       "      <td>2020-06-17 23:45:00</td>\n",
       "      <td>4136001</td>\n",
       "      <td>xMbIugepa2P7lBB</td>\n",
       "      <td>0.0</td>\n",
       "      <td>0.0</td>\n",
       "      <td>4218.000000</td>\n",
       "      <td>1.068964e+08</td>\n",
       "    </tr>\n",
       "    <tr>\n",
       "      <th>67697</th>\n",
       "      <td>2020-06-17 23:45:00</td>\n",
       "      <td>4136001</td>\n",
       "      <td>xoJJ8DcxJEcupym</td>\n",
       "      <td>0.0</td>\n",
       "      <td>0.0</td>\n",
       "      <td>4316.000000</td>\n",
       "      <td>2.093357e+08</td>\n",
       "    </tr>\n",
       "  </tbody>\n",
       "</table>\n",
       "<p>67698 rows × 7 columns</p>\n",
       "</div>"
      ],
      "text/plain": [
       "                DATE_TIME  PLANT_ID       SOURCE_KEY  DC_POWER  AC_POWER  \\\n",
       "0     2020-05-15 00:00:00   4136001  4UPUqMRk7TRMgml       0.0       0.0   \n",
       "1     2020-05-15 00:00:00   4136001  81aHJ1q11NBPMrL       0.0       0.0   \n",
       "2     2020-05-15 00:00:00   4136001  9kRcWv60rDACzjR       0.0       0.0   \n",
       "3     2020-05-15 00:00:00   4136001  Et9kgGMDl729KT4       0.0       0.0   \n",
       "4     2020-05-15 00:00:00   4136001  IQ2d7wF4YD8zU1Q       0.0       0.0   \n",
       "...                   ...       ...              ...       ...       ...   \n",
       "67693 2020-06-17 23:45:00   4136001  q49J1IKaHRwDQnt       0.0       0.0   \n",
       "67694 2020-06-17 23:45:00   4136001  rrq4fwE8jgrTyWY       0.0       0.0   \n",
       "67695 2020-06-17 23:45:00   4136001  vOuJvMaM2sgwLmb       0.0       0.0   \n",
       "67696 2020-06-17 23:45:00   4136001  xMbIugepa2P7lBB       0.0       0.0   \n",
       "67697 2020-06-17 23:45:00   4136001  xoJJ8DcxJEcupym       0.0       0.0   \n",
       "\n",
       "       DAILY_YIELD   TOTAL_YIELD  \n",
       "0      9425.000000  2.429011e+06  \n",
       "1         0.000000  1.215279e+09  \n",
       "2      3075.333333  2.247720e+09  \n",
       "3       269.933333  1.704250e+06  \n",
       "4      3177.000000  1.994153e+07  \n",
       "...            ...           ...  \n",
       "67693  4157.000000  5.207580e+05  \n",
       "67694  3931.000000  1.211314e+08  \n",
       "67695  4322.000000  2.427691e+06  \n",
       "67696  4218.000000  1.068964e+08  \n",
       "67697  4316.000000  2.093357e+08  \n",
       "\n",
       "[67698 rows x 7 columns]"
      ]
     },
     "execution_count": 10,
     "metadata": {},
     "output_type": "execute_result"
    }
   ],
   "source": [
    "df_gen_2"
   ]
  },
  {
   "cell_type": "code",
   "execution_count": 11,
   "metadata": {},
   "outputs": [
    {
     "data": {
      "text/html": [
       "<div>\n",
       "<style scoped>\n",
       "    .dataframe tbody tr th:only-of-type {\n",
       "        vertical-align: middle;\n",
       "    }\n",
       "\n",
       "    .dataframe tbody tr th {\n",
       "        vertical-align: top;\n",
       "    }\n",
       "\n",
       "    .dataframe thead th {\n",
       "        text-align: right;\n",
       "    }\n",
       "</style>\n",
       "<table border=\"1\" class=\"dataframe\">\n",
       "  <thead>\n",
       "    <tr style=\"text-align: right;\">\n",
       "      <th></th>\n",
       "      <th>DATE_TIME</th>\n",
       "      <th>PLANT_ID</th>\n",
       "      <th>SOURCE_KEY</th>\n",
       "      <th>DC_POWER</th>\n",
       "      <th>AC_POWER</th>\n",
       "      <th>DAILY_YIELD</th>\n",
       "      <th>TOTAL_YIELD</th>\n",
       "    </tr>\n",
       "  </thead>\n",
       "  <tbody>\n",
       "    <tr>\n",
       "      <th>0</th>\n",
       "      <td>2020-05-15 00:00:00</td>\n",
       "      <td>4135001</td>\n",
       "      <td>1BY6WEcLGh8j5v7</td>\n",
       "      <td>0.0</td>\n",
       "      <td>0.0</td>\n",
       "      <td>0.000</td>\n",
       "      <td>6259559.0</td>\n",
       "    </tr>\n",
       "    <tr>\n",
       "      <th>1</th>\n",
       "      <td>2020-05-15 00:00:00</td>\n",
       "      <td>4135001</td>\n",
       "      <td>1IF53ai7Xc0U56Y</td>\n",
       "      <td>0.0</td>\n",
       "      <td>0.0</td>\n",
       "      <td>0.000</td>\n",
       "      <td>6183645.0</td>\n",
       "    </tr>\n",
       "    <tr>\n",
       "      <th>2</th>\n",
       "      <td>2020-05-15 00:00:00</td>\n",
       "      <td>4135001</td>\n",
       "      <td>3PZuoBAID5Wc2HD</td>\n",
       "      <td>0.0</td>\n",
       "      <td>0.0</td>\n",
       "      <td>0.000</td>\n",
       "      <td>6987759.0</td>\n",
       "    </tr>\n",
       "    <tr>\n",
       "      <th>3</th>\n",
       "      <td>2020-05-15 00:00:00</td>\n",
       "      <td>4135001</td>\n",
       "      <td>7JYdWkrLSPkdwr4</td>\n",
       "      <td>0.0</td>\n",
       "      <td>0.0</td>\n",
       "      <td>0.000</td>\n",
       "      <td>7602960.0</td>\n",
       "    </tr>\n",
       "    <tr>\n",
       "      <th>4</th>\n",
       "      <td>2020-05-15 00:00:00</td>\n",
       "      <td>4135001</td>\n",
       "      <td>McdE0feGgRqW7Ca</td>\n",
       "      <td>0.0</td>\n",
       "      <td>0.0</td>\n",
       "      <td>0.000</td>\n",
       "      <td>7158964.0</td>\n",
       "    </tr>\n",
       "    <tr>\n",
       "      <th>...</th>\n",
       "      <td>...</td>\n",
       "      <td>...</td>\n",
       "      <td>...</td>\n",
       "      <td>...</td>\n",
       "      <td>...</td>\n",
       "      <td>...</td>\n",
       "      <td>...</td>\n",
       "    </tr>\n",
       "    <tr>\n",
       "      <th>68773</th>\n",
       "      <td>2020-06-17 23:45:00</td>\n",
       "      <td>4135001</td>\n",
       "      <td>uHbuxQJl8lW7ozc</td>\n",
       "      <td>0.0</td>\n",
       "      <td>0.0</td>\n",
       "      <td>5967.000</td>\n",
       "      <td>7287002.0</td>\n",
       "    </tr>\n",
       "    <tr>\n",
       "      <th>68774</th>\n",
       "      <td>2020-06-17 23:45:00</td>\n",
       "      <td>4135001</td>\n",
       "      <td>wCURE6d3bPkepu2</td>\n",
       "      <td>0.0</td>\n",
       "      <td>0.0</td>\n",
       "      <td>5147.625</td>\n",
       "      <td>7028601.0</td>\n",
       "    </tr>\n",
       "    <tr>\n",
       "      <th>68775</th>\n",
       "      <td>2020-06-17 23:45:00</td>\n",
       "      <td>4135001</td>\n",
       "      <td>z9Y9gH1T5YWrNuG</td>\n",
       "      <td>0.0</td>\n",
       "      <td>0.0</td>\n",
       "      <td>5819.000</td>\n",
       "      <td>7251204.0</td>\n",
       "    </tr>\n",
       "    <tr>\n",
       "      <th>68776</th>\n",
       "      <td>2020-06-17 23:45:00</td>\n",
       "      <td>4135001</td>\n",
       "      <td>zBIq5rxdHJRwDNY</td>\n",
       "      <td>0.0</td>\n",
       "      <td>0.0</td>\n",
       "      <td>5817.000</td>\n",
       "      <td>6583369.0</td>\n",
       "    </tr>\n",
       "    <tr>\n",
       "      <th>68777</th>\n",
       "      <td>2020-06-17 23:45:00</td>\n",
       "      <td>4135001</td>\n",
       "      <td>zVJPv84UY57bAof</td>\n",
       "      <td>0.0</td>\n",
       "      <td>0.0</td>\n",
       "      <td>5910.000</td>\n",
       "      <td>7363272.0</td>\n",
       "    </tr>\n",
       "  </tbody>\n",
       "</table>\n",
       "<p>68778 rows × 7 columns</p>\n",
       "</div>"
      ],
      "text/plain": [
       "                DATE_TIME  PLANT_ID       SOURCE_KEY  DC_POWER  AC_POWER  \\\n",
       "0     2020-05-15 00:00:00   4135001  1BY6WEcLGh8j5v7       0.0       0.0   \n",
       "1     2020-05-15 00:00:00   4135001  1IF53ai7Xc0U56Y       0.0       0.0   \n",
       "2     2020-05-15 00:00:00   4135001  3PZuoBAID5Wc2HD       0.0       0.0   \n",
       "3     2020-05-15 00:00:00   4135001  7JYdWkrLSPkdwr4       0.0       0.0   \n",
       "4     2020-05-15 00:00:00   4135001  McdE0feGgRqW7Ca       0.0       0.0   \n",
       "...                   ...       ...              ...       ...       ...   \n",
       "68773 2020-06-17 23:45:00   4135001  uHbuxQJl8lW7ozc       0.0       0.0   \n",
       "68774 2020-06-17 23:45:00   4135001  wCURE6d3bPkepu2       0.0       0.0   \n",
       "68775 2020-06-17 23:45:00   4135001  z9Y9gH1T5YWrNuG       0.0       0.0   \n",
       "68776 2020-06-17 23:45:00   4135001  zBIq5rxdHJRwDNY       0.0       0.0   \n",
       "68777 2020-06-17 23:45:00   4135001  zVJPv84UY57bAof       0.0       0.0   \n",
       "\n",
       "       DAILY_YIELD  TOTAL_YIELD  \n",
       "0            0.000    6259559.0  \n",
       "1            0.000    6183645.0  \n",
       "2            0.000    6987759.0  \n",
       "3            0.000    7602960.0  \n",
       "4            0.000    7158964.0  \n",
       "...            ...          ...  \n",
       "68773     5967.000    7287002.0  \n",
       "68774     5147.625    7028601.0  \n",
       "68775     5819.000    7251204.0  \n",
       "68776     5817.000    6583369.0  \n",
       "68777     5910.000    7363272.0  \n",
       "\n",
       "[68778 rows x 7 columns]"
      ]
     },
     "execution_count": 11,
     "metadata": {},
     "output_type": "execute_result"
    }
   ],
   "source": [
    "df_gen_1"
   ]
  },
  {
   "cell_type": "markdown",
   "metadata": {},
   "source": [
    "The two data sets are two different power plants."
   ]
  },
  {
   "cell_type": "code",
   "execution_count": 12,
   "metadata": {},
   "outputs": [],
   "source": [
    "df_gen_1['date'] = df_gen_1['DATE_TIME'].dt.date"
   ]
  },
  {
   "cell_type": "code",
   "execution_count": 13,
   "metadata": {},
   "outputs": [],
   "source": [
    "df_gen_1_dly = df_gen_1.groupby('date').agg({'DC_POWER': 'sum', 'AC_POWER': 'sum', 'DAILY_YIELD': 'max'})"
   ]
  },
  {
   "cell_type": "code",
   "execution_count": 14,
   "metadata": {},
   "outputs": [
    {
     "data": {
      "text/plain": [
       "<AxesSubplot:xlabel='date'>"
      ]
     },
     "execution_count": 14,
     "metadata": {},
     "output_type": "execute_result"
    },
    {
     "data": {
      "image/png": "[encoded data removed]",
      "text/plain": [
       "<Figure size 1080x360 with 1 Axes>"
      ]
     },
     "metadata": {
      "needs_background": "light"
     },
     "output_type": "display_data"
    }
   ],
   "source": [
    "df_gen_1_dly.plot(figsize=(15,5))"
   ]
  },
  {
   "cell_type": "code",
   "execution_count": 15,
   "metadata": {},
   "outputs": [
    {
     "data": {
      "text/plain": [
       "<AxesSubplot:xlabel='date'>"
      ]
     },
     "execution_count": 15,
     "metadata": {},
     "output_type": "execute_result"
    },
    {
     "data": {
      "image/png": "[encoded data removed]",
      "text/plain": [
       "<Figure size 1080x360 with 1 Axes>"
      ]
     },
     "metadata": {
      "needs_background": "light"
     },
     "output_type": "display_data"
    }
   ],
   "source": [
    "df_gen_2['date'] = df_gen_2['DATE_TIME'].dt.date\n",
    "df_gen_2_dly = df_gen_2.groupby('date').agg({'DC_POWER': 'sum', 'AC_POWER': 'sum', 'DAILY_YIELD': 'max'})\n",
    "df_gen_2_dly.plot(figsize=(15,5))"
   ]
  },
  {
   "cell_type": "code",
   "execution_count": 16,
   "metadata": {},
   "outputs": [],
   "source": [
    "df_weather_1 = pd.read_csv('Plant_1_Weather_Sensor_Data.csv')"
   ]
  },
  {
   "cell_type": "code",
   "execution_count": 17,
   "metadata": {},
   "outputs": [
    {
     "data": {
      "text/html": [
       "<div>\n",
       "<style scoped>\n",
       "    .dataframe tbody tr th:only-of-type {\n",
       "        vertical-align: middle;\n",
       "    }\n",
       "\n",
       "    .dataframe tbody tr th {\n",
       "        vertical-align: top;\n",
       "    }\n",
       "\n",
       "    .dataframe thead th {\n",
       "        text-align: right;\n",
       "    }\n",
       "</style>\n",
       "<table border=\"1\" class=\"dataframe\">\n",
       "  <thead>\n",
       "    <tr style=\"text-align: right;\">\n",
       "      <th></th>\n",
       "      <th>DATE_TIME</th>\n",
       "      <th>PLANT_ID</th>\n",
       "      <th>SOURCE_KEY</th>\n",
       "      <th>AMBIENT_TEMPERATURE</th>\n",
       "      <th>MODULE_TEMPERATURE</th>\n",
       "      <th>IRRADIATION</th>\n",
       "    </tr>\n",
       "  </thead>\n",
       "  <tbody>\n",
       "    <tr>\n",
       "      <th>0</th>\n",
       "      <td>2020-05-15 00:00:00</td>\n",
       "      <td>4135001</td>\n",
       "      <td>HmiyD2TTLFNqkNe</td>\n",
       "      <td>25.184316</td>\n",
       "      <td>22.857507</td>\n",
       "      <td>0.0</td>\n",
       "    </tr>\n",
       "    <tr>\n",
       "      <th>1</th>\n",
       "      <td>2020-05-15 00:15:00</td>\n",
       "      <td>4135001</td>\n",
       "      <td>HmiyD2TTLFNqkNe</td>\n",
       "      <td>25.084589</td>\n",
       "      <td>22.761668</td>\n",
       "      <td>0.0</td>\n",
       "    </tr>\n",
       "    <tr>\n",
       "      <th>2</th>\n",
       "      <td>2020-05-15 00:30:00</td>\n",
       "      <td>4135001</td>\n",
       "      <td>HmiyD2TTLFNqkNe</td>\n",
       "      <td>24.935753</td>\n",
       "      <td>22.592306</td>\n",
       "      <td>0.0</td>\n",
       "    </tr>\n",
       "    <tr>\n",
       "      <th>3</th>\n",
       "      <td>2020-05-15 00:45:00</td>\n",
       "      <td>4135001</td>\n",
       "      <td>HmiyD2TTLFNqkNe</td>\n",
       "      <td>24.846130</td>\n",
       "      <td>22.360852</td>\n",
       "      <td>0.0</td>\n",
       "    </tr>\n",
       "    <tr>\n",
       "      <th>4</th>\n",
       "      <td>2020-05-15 01:00:00</td>\n",
       "      <td>4135001</td>\n",
       "      <td>HmiyD2TTLFNqkNe</td>\n",
       "      <td>24.621525</td>\n",
       "      <td>22.165423</td>\n",
       "      <td>0.0</td>\n",
       "    </tr>\n",
       "    <tr>\n",
       "      <th>...</th>\n",
       "      <td>...</td>\n",
       "      <td>...</td>\n",
       "      <td>...</td>\n",
       "      <td>...</td>\n",
       "      <td>...</td>\n",
       "      <td>...</td>\n",
       "    </tr>\n",
       "    <tr>\n",
       "      <th>3177</th>\n",
       "      <td>2020-06-17 22:45:00</td>\n",
       "      <td>4135001</td>\n",
       "      <td>HmiyD2TTLFNqkNe</td>\n",
       "      <td>22.150570</td>\n",
       "      <td>21.480377</td>\n",
       "      <td>0.0</td>\n",
       "    </tr>\n",
       "    <tr>\n",
       "      <th>3178</th>\n",
       "      <td>2020-06-17 23:00:00</td>\n",
       "      <td>4135001</td>\n",
       "      <td>HmiyD2TTLFNqkNe</td>\n",
       "      <td>22.129816</td>\n",
       "      <td>21.389024</td>\n",
       "      <td>0.0</td>\n",
       "    </tr>\n",
       "    <tr>\n",
       "      <th>3179</th>\n",
       "      <td>2020-06-17 23:15:00</td>\n",
       "      <td>4135001</td>\n",
       "      <td>HmiyD2TTLFNqkNe</td>\n",
       "      <td>22.008275</td>\n",
       "      <td>20.709211</td>\n",
       "      <td>0.0</td>\n",
       "    </tr>\n",
       "    <tr>\n",
       "      <th>3180</th>\n",
       "      <td>2020-06-17 23:30:00</td>\n",
       "      <td>4135001</td>\n",
       "      <td>HmiyD2TTLFNqkNe</td>\n",
       "      <td>21.969495</td>\n",
       "      <td>20.734963</td>\n",
       "      <td>0.0</td>\n",
       "    </tr>\n",
       "    <tr>\n",
       "      <th>3181</th>\n",
       "      <td>2020-06-17 23:45:00</td>\n",
       "      <td>4135001</td>\n",
       "      <td>HmiyD2TTLFNqkNe</td>\n",
       "      <td>21.909288</td>\n",
       "      <td>20.427972</td>\n",
       "      <td>0.0</td>\n",
       "    </tr>\n",
       "  </tbody>\n",
       "</table>\n",
       "<p>3182 rows × 6 columns</p>\n",
       "</div>"
      ],
      "text/plain": [
       "                DATE_TIME  PLANT_ID       SOURCE_KEY  AMBIENT_TEMPERATURE  \\\n",
       "0     2020-05-15 00:00:00   4135001  HmiyD2TTLFNqkNe            25.184316   \n",
       "1     2020-05-15 00:15:00   4135001  HmiyD2TTLFNqkNe            25.084589   \n",
       "2     2020-05-15 00:30:00   4135001  HmiyD2TTLFNqkNe            24.935753   \n",
       "3     2020-05-15 00:45:00   4135001  HmiyD2TTLFNqkNe            24.846130   \n",
       "4     2020-05-15 01:00:00   4135001  HmiyD2TTLFNqkNe            24.621525   \n",
       "...                   ...       ...              ...                  ...   \n",
       "3177  2020-06-17 22:45:00   4135001  HmiyD2TTLFNqkNe            22.150570   \n",
       "3178  2020-06-17 23:00:00   4135001  HmiyD2TTLFNqkNe            22.129816   \n",
       "3179  2020-06-17 23:15:00   4135001  HmiyD2TTLFNqkNe            22.008275   \n",
       "3180  2020-06-17 23:30:00   4135001  HmiyD2TTLFNqkNe            21.969495   \n",
       "3181  2020-06-17 23:45:00   4135001  HmiyD2TTLFNqkNe            21.909288   \n",
       "\n",
       "      MODULE_TEMPERATURE  IRRADIATION  \n",
       "0              22.857507          0.0  \n",
       "1              22.761668          0.0  \n",
       "2              22.592306          0.0  \n",
       "3              22.360852          0.0  \n",
       "4              22.165423          0.0  \n",
       "...                  ...          ...  \n",
       "3177           21.480377          0.0  \n",
       "3178           21.389024          0.0  \n",
       "3179           20.709211          0.0  \n",
       "3180           20.734963          0.0  \n",
       "3181           20.427972          0.0  \n",
       "\n",
       "[3182 rows x 6 columns]"
      ]
     },
     "execution_count": 17,
     "metadata": {},
     "output_type": "execute_result"
    }
   ],
   "source": [
    "df_weather_1"
   ]
  },
  {
   "cell_type": "code",
   "execution_count": 18,
   "metadata": {},
   "outputs": [
    {
     "name": "stdout",
     "output_type": "stream",
     "text": [
      "<class 'pandas.core.frame.DataFrame'>\n",
      "RangeIndex: 3182 entries, 0 to 3181\n",
      "Data columns (total 6 columns):\n",
      " #   Column               Non-Null Count  Dtype  \n",
      "---  ------               --------------  -----  \n",
      " 0   DATE_TIME            3182 non-null   object \n",
      " 1   PLANT_ID             3182 non-null   int64  \n",
      " 2   SOURCE_KEY           3182 non-null   object \n",
      " 3   AMBIENT_TEMPERATURE  3182 non-null   float64\n",
      " 4   MODULE_TEMPERATURE   3182 non-null   float64\n",
      " 5   IRRADIATION          3182 non-null   float64\n",
      "dtypes: float64(3), int64(1), object(2)\n",
      "memory usage: 149.3+ KB\n"
     ]
    }
   ],
   "source": [
    "df_weather_1.info()"
   ]
  },
  {
   "cell_type": "code",
   "execution_count": 19,
   "metadata": {},
   "outputs": [],
   "source": [
    "df_weather_1['DATE_TIME'] = pd.to_datetime(df_weather_1['DATE_TIME'])"
   ]
  },
  {
   "cell_type": "code",
   "execution_count": 20,
   "metadata": {},
   "outputs": [],
   "source": [
    "df_weather_1['date'] = df_weather_1['DATE_TIME'].dt.date\n",
    "df_weather_1_dly = df_weather_1.groupby('date').agg({'AMBIENT_TEMPERATURE': 'mean', 'MODULE_TEMPERATURE': 'mean', 'IRRADIATION': 'sum'})"
   ]
  },
  {
   "cell_type": "code",
   "execution_count": 21,
   "metadata": {},
   "outputs": [
    {
     "data": {
      "text/plain": [
       "<AxesSubplot:xlabel='date'>"
      ]
     },
     "execution_count": 21,
     "metadata": {},
     "output_type": "execute_result"
    },
    {
     "data": {
      "image/png": "[encoded data removed]",
      "text/plain": [
       "<Figure size 1080x360 with 1 Axes>"
      ]
     },
     "metadata": {
      "needs_background": "light"
     },
     "output_type": "display_data"
    }
   ],
   "source": [
    "df_weather_1_dly.plot(figsize=(15,5))"
   ]
  },
  {
   "cell_type": "code",
   "execution_count": 22,
   "metadata": {},
   "outputs": [],
   "source": [
    "df_gen_1_dly = df_gen_1_dly.merge(df_weather_1_dly, on='date')"
   ]
  },
  {
   "cell_type": "code",
   "execution_count": 23,
   "metadata": {},
   "outputs": [
    {
     "data": {
      "text/html": [
       "<div>\n",
       "<style scoped>\n",
       "    .dataframe tbody tr th:only-of-type {\n",
       "        vertical-align: middle;\n",
       "    }\n",
       "\n",
       "    .dataframe tbody tr th {\n",
       "        vertical-align: top;\n",
       "    }\n",
       "\n",
       "    .dataframe thead th {\n",
       "        text-align: right;\n",
       "    }\n",
       "</style>\n",
       "<table border=\"1\" class=\"dataframe\">\n",
       "  <thead>\n",
       "    <tr style=\"text-align: right;\">\n",
       "      <th></th>\n",
       "      <th>DC_POWER</th>\n",
       "      <th>AC_POWER</th>\n",
       "      <th>DAILY_YIELD</th>\n",
       "      <th>AMBIENT_TEMPERATURE</th>\n",
       "      <th>MODULE_TEMPERATURE</th>\n",
       "      <th>IRRADIATION</th>\n",
       "    </tr>\n",
       "    <tr>\n",
       "      <th>date</th>\n",
       "      <th></th>\n",
       "      <th></th>\n",
       "      <th></th>\n",
       "      <th></th>\n",
       "      <th></th>\n",
       "      <th></th>\n",
       "    </tr>\n",
       "  </thead>\n",
       "  <tbody>\n",
       "    <tr>\n",
       "      <th>2020-05-15</th>\n",
       "      <td>5.627239e+06</td>\n",
       "      <td>550830.959402</td>\n",
       "      <td>6471.0</td>\n",
       "      <td>27.430823</td>\n",
       "      <td>32.582964</td>\n",
       "      <td>19.037010</td>\n",
       "    </tr>\n",
       "    <tr>\n",
       "      <th>2020-05-16</th>\n",
       "      <td>5.806138e+06</td>\n",
       "      <td>568359.821428</td>\n",
       "      <td>6714.0</td>\n",
       "      <td>26.780538</td>\n",
       "      <td>31.858851</td>\n",
       "      <td>18.651690</td>\n",
       "    </tr>\n",
       "    <tr>\n",
       "      <th>2020-05-17</th>\n",
       "      <td>6.759595e+06</td>\n",
       "      <td>660975.389285</td>\n",
       "      <td>7867.0</td>\n",
       "      <td>26.686727</td>\n",
       "      <td>32.740435</td>\n",
       "      <td>22.931378</td>\n",
       "    </tr>\n",
       "    <tr>\n",
       "      <th>2020-05-18</th>\n",
       "      <td>4.812549e+06</td>\n",
       "      <td>470969.708929</td>\n",
       "      <td>5506.0</td>\n",
       "      <td>23.850938</td>\n",
       "      <td>27.814344</td>\n",
       "      <td>15.266485</td>\n",
       "    </tr>\n",
       "    <tr>\n",
       "      <th>2020-05-19</th>\n",
       "      <td>5.437955e+06</td>\n",
       "      <td>532250.491070</td>\n",
       "      <td>7007.0</td>\n",
       "      <td>25.338021</td>\n",
       "      <td>29.725163</td>\n",
       "      <td>18.044861</td>\n",
       "    </tr>\n",
       "  </tbody>\n",
       "</table>\n",
       "</div>"
      ],
      "text/plain": [
       "                DC_POWER       AC_POWER  DAILY_YIELD  AMBIENT_TEMPERATURE  \\\n",
       "date                                                                        \n",
       "2020-05-15  5.627239e+06  550830.959402       6471.0            27.430823   \n",
       "2020-05-16  5.806138e+06  568359.821428       6714.0            26.780538   \n",
       "2020-05-17  6.759595e+06  660975.389285       7867.0            26.686727   \n",
       "2020-05-18  4.812549e+06  470969.708929       5506.0            23.850938   \n",
       "2020-05-19  5.437955e+06  532250.491070       7007.0            25.338021   \n",
       "\n",
       "            MODULE_TEMPERATURE  IRRADIATION  \n",
       "date                                         \n",
       "2020-05-15           32.582964    19.037010  \n",
       "2020-05-16           31.858851    18.651690  \n",
       "2020-05-17           32.740435    22.931378  \n",
       "2020-05-18           27.814344    15.266485  \n",
       "2020-05-19           29.725163    18.044861  "
      ]
     },
     "execution_count": 23,
     "metadata": {},
     "output_type": "execute_result"
    }
   ],
   "source": [
    "df_gen_1_dly.head()"
   ]
  },
  {
   "cell_type": "code",
   "execution_count": 24,
   "metadata": {},
   "outputs": [
    {
     "data": {
      "image/png": "[encoded data removed]",
      "text/plain": [
       "<Figure size 1080x360 with 2 Axes>"
      ]
     },
     "metadata": {
      "needs_background": "light"
     },
     "output_type": "display_data"
    }
   ],
   "source": [
    "data1 = df_gen_1_dly['DC_POWER']\n",
    "data2 = df_gen_1_dly[['IRRADIATION']]\n",
    "data3 = df_gen_1_dly[['MODULE_TEMPERATURE']]\n",
    "\n",
    "fig, ax1 = plt.subplots(figsize=(15,5))\n",
    "\n",
    "color = 'tab:red'\n",
    "ax1.set_xlabel('Timeline')\n",
    "ax1.set_ylabel('Daily DC Power')\n",
    "ax1.plot(df_gen_1_dly.index, data1, color=color)\n",
    "plt.legend(['DC Power'], loc=2)\n",
    "#ax1.tick_params(axis='y')\n",
    "\n",
    "ax2 = ax1.twinx()  # instantiate a second axes that shares the same x-axis\n",
    "\n",
    "#color = 'tab:blue'\n",
    "ax2.set_ylabel('Irradiation and Temperature')  # we already handled the x-label with ax1\n",
    "ax2.plot(df_gen_1_dly.index, data2)\n",
    "\n",
    "ax3 = ax2\n",
    "ax3.plot(df_gen_1_dly.index, data3)\n",
    "#ax2.tick_params(axis='y')\n",
    "\n",
    "plt.legend(['Temperature', 'Irradiation'])\n",
    "\n",
    "fig.tight_layout()  # otherwise the right y-label is slightly clipped\n",
    "plt.show()"
   ]
  },
  {
   "cell_type": "code",
   "execution_count": 25,
   "metadata": {},
   "outputs": [
    {
     "data": {
      "text/plain": [
       "<AxesSubplot:xlabel='date'>"
      ]
     },
     "execution_count": 25,
     "metadata": {},
     "output_type": "execute_result"
    },
    {
     "data": {
      "image/png": "[encoded data removed]",
      "text/plain": [
       "<Figure size 1080x360 with 1 Axes>"
      ]
     },
     "metadata": {
      "needs_background": "light"
     },
     "output_type": "display_data"
    }
   ],
   "source": [
    "df_weather_1_dly['IRRADIATION'].plot(figsize=(15,5), kind='bar')"
   ]
  },
  {
   "cell_type": "code",
   "execution_count": 26,
   "metadata": {},
   "outputs": [],
   "source": [
    "df_weather_may_25 = df_weather_1.loc[df_weather_1.date == pd.to_datetime('2020-05-25')][['IRRADIATION', 'DATE_TIME']]"
   ]
  },
  {
   "cell_type": "code",
   "execution_count": 27,
   "metadata": {},
   "outputs": [
    {
     "data": {
      "text/plain": [
       "<AxesSubplot:xlabel='DATE_TIME'>"
      ]
     },
     "execution_count": 27,
     "metadata": {},
     "output_type": "execute_result"
    },
    {
     "data": {
      "image/png": "[encoded data removed]",
      "text/plain": [
       "<Figure size 1080x360 with 1 Axes>"
      ]
     },
     "metadata": {
      "needs_background": "light"
     },
     "output_type": "display_data"
    }
   ],
   "source": [
    "df_weather_may_25.plot(figsize = (15,5), x='DATE_TIME')"
   ]
  },
  {
   "cell_type": "code",
   "execution_count": 28,
   "metadata": {},
   "outputs": [],
   "source": [
    "df_gen = df_gen_1_dly.merge(df_gen_2_dly, on='date')"
   ]
  },
  {
   "cell_type": "code",
   "execution_count": 29,
   "metadata": {},
   "outputs": [
    {
     "data": {
      "text/html": [
       "<div>\n",
       "<style scoped>\n",
       "    .dataframe tbody tr th:only-of-type {\n",
       "        vertical-align: middle;\n",
       "    }\n",
       "\n",
       "    .dataframe tbody tr th {\n",
       "        vertical-align: top;\n",
       "    }\n",
       "\n",
       "    .dataframe thead th {\n",
       "        text-align: right;\n",
       "    }\n",
       "</style>\n",
       "<table border=\"1\" class=\"dataframe\">\n",
       "  <thead>\n",
       "    <tr style=\"text-align: right;\">\n",
       "      <th></th>\n",
       "      <th>DC_POWER_x</th>\n",
       "      <th>AC_POWER_x</th>\n",
       "      <th>DAILY_YIELD_x</th>\n",
       "      <th>AMBIENT_TEMPERATURE</th>\n",
       "      <th>MODULE_TEMPERATURE</th>\n",
       "      <th>IRRADIATION</th>\n",
       "      <th>DC_POWER_y</th>\n",
       "      <th>AC_POWER_y</th>\n",
       "      <th>DAILY_YIELD_y</th>\n",
       "    </tr>\n",
       "    <tr>\n",
       "      <th>date</th>\n",
       "      <th></th>\n",
       "      <th></th>\n",
       "      <th></th>\n",
       "      <th></th>\n",
       "      <th></th>\n",
       "      <th></th>\n",
       "      <th></th>\n",
       "      <th></th>\n",
       "      <th></th>\n",
       "    </tr>\n",
       "  </thead>\n",
       "  <tbody>\n",
       "    <tr>\n",
       "      <th>2020-05-15</th>\n",
       "      <td>5.627239e+06</td>\n",
       "      <td>550830.959402</td>\n",
       "      <td>6471.0</td>\n",
       "      <td>27.430823</td>\n",
       "      <td>32.582964</td>\n",
       "      <td>19.037010</td>\n",
       "      <td>666607.630952</td>\n",
       "      <td>651437.736667</td>\n",
       "      <td>9663.0</td>\n",
       "    </tr>\n",
       "    <tr>\n",
       "      <th>2020-05-16</th>\n",
       "      <td>5.806138e+06</td>\n",
       "      <td>568359.821428</td>\n",
       "      <td>6714.0</td>\n",
       "      <td>26.780538</td>\n",
       "      <td>31.858851</td>\n",
       "      <td>18.651690</td>\n",
       "      <td>566839.840000</td>\n",
       "      <td>554253.460476</td>\n",
       "      <td>9465.0</td>\n",
       "    </tr>\n",
       "    <tr>\n",
       "      <th>2020-05-17</th>\n",
       "      <td>6.759595e+06</td>\n",
       "      <td>660975.389285</td>\n",
       "      <td>7867.0</td>\n",
       "      <td>26.686727</td>\n",
       "      <td>32.740435</td>\n",
       "      <td>22.931378</td>\n",
       "      <td>556236.918205</td>\n",
       "      <td>544393.020916</td>\n",
       "      <td>7722.0</td>\n",
       "    </tr>\n",
       "    <tr>\n",
       "      <th>2020-05-18</th>\n",
       "      <td>4.812549e+06</td>\n",
       "      <td>470969.708929</td>\n",
       "      <td>5506.0</td>\n",
       "      <td>23.850938</td>\n",
       "      <td>27.814344</td>\n",
       "      <td>15.266485</td>\n",
       "      <td>530773.677143</td>\n",
       "      <td>519012.565238</td>\n",
       "      <td>7818.0</td>\n",
       "    </tr>\n",
       "    <tr>\n",
       "      <th>2020-05-19</th>\n",
       "      <td>5.437955e+06</td>\n",
       "      <td>532250.491070</td>\n",
       "      <td>7007.0</td>\n",
       "      <td>25.338021</td>\n",
       "      <td>29.725163</td>\n",
       "      <td>18.044861</td>\n",
       "      <td>443495.847015</td>\n",
       "      <td>433554.722647</td>\n",
       "      <td>7696.0</td>\n",
       "    </tr>\n",
       "  </tbody>\n",
       "</table>\n",
       "</div>"
      ],
      "text/plain": [
       "              DC_POWER_x     AC_POWER_x  DAILY_YIELD_x  AMBIENT_TEMPERATURE  \\\n",
       "date                                                                          \n",
       "2020-05-15  5.627239e+06  550830.959402         6471.0            27.430823   \n",
       "2020-05-16  5.806138e+06  568359.821428         6714.0            26.780538   \n",
       "2020-05-17  6.759595e+06  660975.389285         7867.0            26.686727   \n",
       "2020-05-18  4.812549e+06  470969.708929         5506.0            23.850938   \n",
       "2020-05-19  5.437955e+06  532250.491070         7007.0            25.338021   \n",
       "\n",
       "            MODULE_TEMPERATURE  IRRADIATION     DC_POWER_y     AC_POWER_y  \\\n",
       "date                                                                        \n",
       "2020-05-15           32.582964    19.037010  666607.630952  651437.736667   \n",
       "2020-05-16           31.858851    18.651690  566839.840000  554253.460476   \n",
       "2020-05-17           32.740435    22.931378  556236.918205  544393.020916   \n",
       "2020-05-18           27.814344    15.266485  530773.677143  519012.565238   \n",
       "2020-05-19           29.725163    18.044861  443495.847015  433554.722647   \n",
       "\n",
       "            DAILY_YIELD_y  \n",
       "date                       \n",
       "2020-05-15         9663.0  \n",
       "2020-05-16         9465.0  \n",
       "2020-05-17         7722.0  \n",
       "2020-05-18         7818.0  \n",
       "2020-05-19         7696.0  "
      ]
     },
     "execution_count": 29,
     "metadata": {},
     "output_type": "execute_result"
    }
   ],
   "source": [
    "df_gen.head()"
   ]
  },
  {
   "cell_type": "code",
   "execution_count": 30,
   "metadata": {},
   "outputs": [
    {
     "data": {
      "text/plain": [
       "<AxesSubplot:ylabel='None'>"
      ]
     },
     "execution_count": 30,
     "metadata": {},
     "output_type": "execute_result"
    },
    {
     "data": {
      "image/png": "[encoded data removed]",
      "text/plain": [
       "<Figure size 432x288 with 1 Axes>"
      ]
     },
     "metadata": {},
     "output_type": "display_data"
    }
   ],
   "source": [
    "df_gen[['DC_POWER_x', 'DC_POWER_y']].sum().plot(kind='pie')"
   ]
  },
  {
   "cell_type": "code",
   "execution_count": null,
   "metadata": {},
   "outputs": [],
   "source": []
  }
 ],
 "metadata": {
  "kernelspec": {
   "display_name": "Python 3",
   "language": "python",
   "name": "python3"
  },
  "language_info": {
   "codemirror_mode": {
    "name": "ipython",
    "version": 3
   },
   "file_extension": ".py",
   "mimetype": "text/x-python",
   "name": "python",
   "nbconvert_exporter": "python",
   "pygments_lexer": "ipython3",
   "version": "3.8.3"
  }
 },
 "nbformat": 4,
 "nbformat_minor": 4
}
